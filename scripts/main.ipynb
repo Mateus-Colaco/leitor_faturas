{
 "cells": [
  {
   "cell_type": "markdown",
   "metadata": {},
   "source": [
    "## <div style=\"color: #E98E29\">**1. Ler PDF completo** </div>\n",
    "\n",
    " - <s style=\"color: #92BB2D\">CPFL</s>\n",
    " - <s style=\"color: #92BB2D\">COPEL</s>\n",
    " - CEMIG\n",
    " - <s style=\"color: #92BB2D\">EDP</s>\n",
    " - ELEKTRO\n",
    " - ENEL\n",
    "\n",
    "---\n",
    "\n",
    "## <div style=\"color: #E98E29\">**2. Criar a base**</div>\n",
    "- <s style=\"color: #92BB2D\">Coletar Meses e ano(s)</s>\n",
    "- <s style=\"color: #92BB2D\">Coletar Consumos</s>\n",
    "-  <s style=\"color: #92BB2D\">Coletar Demandas</s>\n",
    "- <s style=\"color: #92BB2D\">Criar DataFrame</s>\n",
    "- Adicionar a base de dados\n",
    "<br>\n",
    "<br>\n",
    "---\n",
    "\n",
    "## <s style=\"color: #92BB2D\">**3. Não adicionar datas repetidas**</s>\n",
    "\n",
    "<br>"
   ]
  },
  {
   "cell_type": "markdown",
   "metadata": {},
   "source": [
    "## LER OS PDFS"
   ]
  },
  {
   "cell_type": "code",
   "execution_count": 73,
   "metadata": {
    "notebookRunGroups": {
     "groupValue": "1"
    }
   },
   "outputs": [],
   "source": [
    "import sys\n",
    "\n",
    "classes = r\"C:\\Users\\mateus.souza\\Desktop\\Projetos_n\\leitor_pdf\\coleta\\scripts\\classes\"\n",
    "funcs = r\"C:\\Users\\mateus.souza\\Desktop\\Projetos_n\\leitor_pdf\\coleta\\scripts\\funcoes\"\n",
    "sys.path.append(classes)\n",
    "sys.path.append(funcs)"
   ]
  },
  {
   "cell_type": "code",
   "execution_count": 74,
   "metadata": {
    "notebookRunGroups": {
     "groupValue": "1"
    }
   },
   "outputs": [],
   "source": [
    "import os\n",
    "import contextlib\n",
    "import regex as re\n",
    "import pandas as pd\n",
    "from funcoes.f_database import *\n",
    "from typing import Any, List, Tuple\n",
    "from Fatura import Fatura\n",
    "\n",
    "join_path = lambda y, x: os.path.join(y, x)\n",
    "filename = lambda path, filetype: path.split(\"\\\\\")[-1].split(filetype)[0]\n",
    "\n",
    "PATH = r\"Q:\\APOIO ATENDIMENTO\\Faturas EcoExp\\Setembro\"\n",
    "FOLDERS = os.listdir(PATH)\n",
    "PATHS = [{filename(x, \".pdf\"): join_path(PATH, x)} for x in FOLDERS]"
   ]
  },
  {
   "cell_type": "markdown",
   "metadata": {},
   "source": [
    "# SCRIPTS"
   ]
  },
  {
   "cell_type": "markdown",
   "metadata": {},
   "source": [
    "## ADICIONAR IDS"
   ]
  },
  {
   "cell_type": "code",
   "execution_count": null,
   "metadata": {},
   "outputs": [],
   "source": [
    "# ADICIONA NOVOS CLIENTES\n",
    "df = []\n",
    "ucs_df = df[[\"nome\"]].drop_duplicates().reset_index(drop=True)\n",
    "db_path = r\"C:\\Users\\mateus.souza\\Desktop\\Projetos_n\\leitor_pdf\\banco_de_dados\\distribuidoras.db\"\n",
    "ucs_db = get_clientes_existentes(db_path)\n",
    "ucs_nova = adiciona_novo_id_clientes(mantem_novos_clientes(ucs_df, ucs_db))\n",
    "if not (ucs_nova.empty):\n",
    "    print(f\"Clientes a adicionar: {', '.join(ucs_nova.nome.values.tolist())}\")\n",
    "    if salva_novos_clientes(ucs_nova, db_path):\n",
    "        print(\"Insercao de Novos Clientes ok\")\n",
    "        ucs_db = get_clientes_existentes(db_path)\n",
    "    else:\n",
    "        print(\"Erro ao salvar valores no banco\")\n",
    "else:\n",
    "    print(\"Nenhuma UC nova\")\n",
    "\n",
    "consumos_pdf = criar_id_consumos(df_id=ucs_db, df_consumo=df.drop_duplicates(subset=[\"nome\", \"datas\"]))\n",
    "consumos_db = get_consumos_existentes(db_path)\n",
    "novos_consumos = mantem_novos_consumos(\n",
    "    novos_consumos=consumos_pdf, consumos_existentes=consumos_db\n",
    ")\n",
    "if not(novos_consumos.empty):\n",
    "    status = salva_novos_consumos(novos_consumos=novos_consumos, db_path=db_path)"
   ]
  },
  {
   "cell_type": "markdown",
   "metadata": {},
   "source": [
    "## DATAFRAME FINAL"
   ]
  },
  {
   "cell_type": "code",
   "execution_count": 75,
   "metadata": {
    "notebookRunGroups": {
     "groupValue": "1"
    }
   },
   "outputs": [],
   "source": [
    "from Identificador import Identificador\n",
    "from PyPDF2.errors import PdfReadError\n",
    "DISTRIBUIDORAS = {}\n",
    "for info in PATHS:\n",
    "    with contextlib.suppress(IndexError,TypeError, PdfReadError):\n",
    "        path = info.get(*info.keys())\n",
    "        DISTRIBUIDORA = Identificador(infos=info).main()(path)\n",
    "        name = DISTRIBUIDORA.distribuidora\n",
    "        if name not in DISTRIBUIDORAS.keys():\n",
    "            DISTRIBUIDORAS[name] = []\n",
    "        if name != None:\n",
    "            DISTRIBUIDORAS[name].append(DISTRIBUIDORA)"
   ]
  },
  {
   "cell_type": "markdown",
   "metadata": {},
   "source": [
    "# NOVAS CLASSES - DESENVOLVIMENTO"
   ]
  },
  {
   "cell_type": "code",
   "execution_count": null,
   "metadata": {},
   "outputs": [],
   "source": [
    "import regex as re\n",
    "from Fatura import Fatura\n",
    "from typing import Any, List, Tuple\n",
    "from pandas import DataFrame, Series\n",
    "\n",
    "\n",
    "class CEMIG(Fatura):\n",
    "    def __init__(self, path: str):\n",
    "        super().__init__(path)\n",
    "        self.split_str = lambda x: re.split(\"\\s+\", x)[:-1]\n",
    "    \n",
    "    @Fatura.distribuidora.getter\n",
    "    def distribuidora(self) -> str:\n",
    "        return self.__class__.__name__\n",
    "\n",
    "    @Fatura.consumo.setter\n",
    "    def consumo(self, consumo: DataFrame):\n",
    "        self._consumo = consumo\n",
    "    \n",
    "    @Fatura.data.setter\n",
    "    def data(self, datas: Series):\n",
    "        self._data = datas\n",
    "\n",
    "    @Fatura.demanda.setter\n",
    "    def demanda(self, demanda: DataFrame):\n",
    "        self._demanda = demanda\n",
    "\n",
    "    @Fatura.medida_consumo.setter\n",
    "    def medida_consumo(self, indice: int):\n",
    "        self._medida_consumo = re.search(\"energia\\((\\w*)\\)\", self._primeira_pagina).group(1)\n",
    "    \n",
    "    @Fatura.medida_demanda.setter\n",
    "    def medida_demanda(self, indice: int):\n",
    "        self._medida_demanda = re.search(\"demanda\\((\\w*)\\)\", self._primeira_pagina).group(1)\n",
    "\n",
    "    @Fatura.nome.setter\n",
    "    def nome(self, flag: Any):\n",
    "        self._nome = re.search(\"cliente: (\\w.*) unidade:\", self._ultima_pagina).group(1)\n",
    "\n",
    "    @Fatura.ths.setter\n",
    "    def ths(self, texto_a_encontrar: str):\n",
    "        self._ths = re.search(texto_a_encontrar, self._primeira_pagina).group(1)\n",
    "           \n",
    "    def main(self):\n",
    "        idx_0, idx_1 = self.indices()\n",
    "        dados_lista = list(map(self.split_str, self.dados_lista(idx_0, idx_1)))\n",
    "        cols = [\"datas\", \"demanda_ponta\", \"demanda_fora_de_ponta\", \"consumo_ponta\", \"consumo_fora_de_ponta\"]\n",
    "        df = DataFrame(dados_lista, columns=cols)\n",
    "        df.datas = df.datas.apply(self.transforma_data)\n",
    "        \n",
    "        self.consumo = df[[\"datas\", \"consumo_ponta\", \"consumo_fora_de_ponta\"]]\n",
    "        self.demanda = df[[\"datas\", \"demanda_ponta\", \"demanda_fora_de_ponta\"]]\n",
    "        self.data = df.datas\n",
    "        self.ths = \"ths (\\w+)\\s\"\n",
    "        \n",
    "        self.nome = None\n",
    "        self.medida_demanda = None\n",
    "        self.medida_consumo = None\n",
    "\n",
    "    def dados_lista(self, idx_0: int, idx_1: int) -> List[str]:\n",
    "        return self._primeira_pagina[idx_0: idx_1].split(\"\\n\")\n",
    "\n",
    "    def indices(self) -> Tuple[int, int]:\n",
    "        encontrar = \"hp hfp hp hfp hr\"\n",
    "        idx_0 = self._primeira_pagina.find(encontrar) + len(encontrar) + 1\n",
    "        idx_1 = self._primeira_pagina.find(\"reservado ao fisco\")\n",
    "        return idx_0, idx_1\n",
    "    "
   ]
  },
  {
   "cell_type": "code",
   "execution_count": null,
   "metadata": {},
   "outputs": [],
   "source": [
    "from EDP import EDP\n",
    "from CPFL import CPFL\n",
    "from COPEL import COPEL\n",
    "from CEMIG import CEMIG\n",
    "\n",
    "\n",
    "# for cemig in DISTRIBUIDORAS['CEMIG']:\n",
    "#     caminho = cemig._caminho\n",
    "#     cmg = CEMIG(caminho)\n",
    "#     cmg.main()\n",
    "\n",
    "for cpfl in DISTRIBUIDORAS['CPFL']:\n",
    "    caminho = cpfl._caminho\n",
    "    cpfl = CPFL(caminho)\n",
    "    cpfl.main()\n",
    "\n",
    "# for edp in DISTRIBUIDORAS['EDP']:\n",
    "#     caminho = edp._caminho\n",
    "#     edp = EDP(caminho)\n",
    "#     edp.main()\n",
    "\n",
    "# for copel in DISTRIBUIDORAS['COPEL']:\n",
    "#     caminho = copel._caminho\n",
    "#     copel = COPEL(caminho)\n",
    "#     copel.main()"
   ]
  },
  {
   "cell_type": "code",
   "execution_count": null,
   "metadata": {},
   "outputs": [],
   "source": [
    "idx = cpfl._texto_posicao(\"consumo fora de ponta\")\n",
    "\n",
    "string = cpfl.ultima_pagina[idx:][:re.search(\"\\n\\w.*dias\", cpfl.ultima_pagina[idx:]).span()[0]]\n",
    "datas_lista = cpfl.datas_texto(re.sub(\"ll.*\", \"\", string).split(\"\\n\")[1:])\n",
    "datas_series = pd.Series(datas_lista, name=\"data\")\n",
    "cpfl._data = datas_series.apply(cpfl.transforma_data)"
   ]
  },
  {
   "cell_type": "code",
   "execution_count": null,
   "metadata": {},
   "outputs": [],
   "source": [
    "cpfl.data"
   ]
  },
  {
   "cell_type": "code",
   "execution_count": null,
   "metadata": {},
   "outputs": [],
   "source": [
    "erro = cpfl._caminho "
   ]
  }
 ],
 "metadata": {
  "kernelspec": {
   "display_name": "Python 3",
   "language": "python",
   "name": "python3"
  },
  "language_info": {
   "codemirror_mode": {
    "name": "ipython",
    "version": 3
   },
   "file_extension": ".py",
   "mimetype": "text/x-python",
   "name": "python",
   "nbconvert_exporter": "python",
   "pygments_lexer": "ipython3",
   "version": "3.10.6"
  },
  "orig_nbformat": 4
 },
 "nbformat": 4,
 "nbformat_minor": 2
}
