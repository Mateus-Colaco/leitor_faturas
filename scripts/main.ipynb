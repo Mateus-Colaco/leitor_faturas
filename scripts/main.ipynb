{
 "cells": [
  {
   "cell_type": "markdown",
   "metadata": {},
   "source": [
    "## <div style=\"color: #E98E29\">**1. Ler PDF completo** </div>\n",
    "\n",
    " - <s style=\"color: #92BB2D\">CPFL</s>\n",
    " - <s style=\"color: #92BB2D\">COPEL</s>\n",
    " - <s style=\"color: #92BB2D\">CEMIG</s>\n",
    " - <s style=\"color: #92BB2D\">EDP</s>\n",
    " - ELEKTRO\n",
    " - ENEL\n",
    "\n",
    "---\n",
    "\n",
    "## <div style=\"color: #E98E29\">**2. Criar a base**</div>\n",
    "- <s style=\"color: #92BB2D\">Coletar Meses e ano(s)</s>\n",
    "- <s style=\"color: #92BB2D\">Coletar Consumos</s>\n",
    "-  <s style=\"color: #92BB2D\">Coletar Demandas</s>\n",
    "- <s style=\"color: #92BB2D\">Criar DataFrame</s>\n",
    "- Adicionar a base de dados\n",
    "<br>\n",
    "<br>\n",
    "---\n",
    "\n",
    "## <s style=\"color: #92BB2D\">**3. Não adicionar datas repetidas**</s>\n",
    "\n",
    "<br>"
   ]
  },
  {
   "cell_type": "markdown",
   "metadata": {},
   "source": [
    "## LER OS PDFS"
   ]
  },
  {
   "cell_type": "code",
   "execution_count": 1,
   "metadata": {
    "notebookRunGroups": {
     "groupValue": "1"
    }
   },
   "outputs": [],
   "source": [
    "import sys\n",
    "\n",
    "classes = r\"C:\\Users\\mateus.souza\\Desktop\\Projetos_n\\leitor_pdf\\coleta\\scripts\\classes\"\n",
    "funcs = r\"C:\\Users\\mateus.souza\\Desktop\\Projetos_n\\leitor_pdf\\coleta\\scripts\\funcoes\"\n",
    "sys.path.append(classes)\n",
    "sys.path.append(funcs)"
   ]
  },
  {
   "cell_type": "code",
   "execution_count": 57,
   "metadata": {
    "notebookRunGroups": {
     "groupValue": "1"
    }
   },
   "outputs": [],
   "source": [
    "import os\n",
    "import contextlib\n",
    "import regex as re\n",
    "import pandas as pd\n",
    "from f_database import *\n",
    "from typing import Any, List, Tuple\n",
    "from Fatura import Fatura\n",
    "\n",
    "join_path = lambda y, x: os.path.join(y, x)\n",
    "filename = lambda path, filetype: path.split(\"\\\\\")[-1].split(filetype)[0]\n",
    "\n",
    "PATH = r\"Q:\\APOIO ATENDIMENTO\\Faturas EcoExp\\Outubro\"\n",
    "FOLDERS = os.listdir(PATH)\n",
    "PATHS = [{filename(x, \".pdf\"): join_path(PATH, x)} for x in FOLDERS]"
   ]
  },
  {
   "cell_type": "markdown",
   "metadata": {},
   "source": [
    "# SCRIPTS"
   ]
  },
  {
   "cell_type": "markdown",
   "metadata": {},
   "source": [
    "## ADICIONAR IDS"
   ]
  },
  {
   "cell_type": "code",
   "execution_count": null,
   "metadata": {},
   "outputs": [],
   "source": [
    "# ADICIONA NOVOS CLIENTES\n",
    "df = []\n",
    "ucs_df = df[[\"nome\"]].drop_duplicates().reset_index(drop=True)\n",
    "db_path = r\"C:\\Users\\mateus.souza\\Desktop\\Projetos_n\\leitor_pdf\\banco_de_dados\\distribuidoras.db\"\n",
    "ucs_db = get_clientes_existentes(db_path)\n",
    "ucs_nova = adiciona_novo_id_clientes(mantem_novos_clientes(ucs_df, ucs_db))\n",
    "if not (ucs_nova.empty):\n",
    "    print(f\"Clientes a adicionar: {', '.join(ucs_nova.nome.values.tolist())}\")\n",
    "    if salva_novos_clientes(ucs_nova, db_path):\n",
    "        print(\"Insercao de Novos Clientes ok\")\n",
    "        ucs_db = get_clientes_existentes(db_path)\n",
    "    else:\n",
    "        print(\"Erro ao salvar valores no banco\")\n",
    "else:\n",
    "    print(\"Nenhuma UC nova\")\n",
    "\n",
    "consumos_pdf = criar_id_consumos(df_id=ucs_db, df_consumo=df.drop_duplicates(subset=[\"nome\", \"datas\"]))\n",
    "consumos_db = get_consumos_existentes(db_path)\n",
    "novos_consumos = mantem_novos_consumos(\n",
    "    novos_consumos=consumos_pdf, consumos_existentes=consumos_db\n",
    ")\n",
    "if not(novos_consumos.empty):\n",
    "    status = salva_novos_consumos(novos_consumos=novos_consumos, db_path=db_path)"
   ]
  },
  {
   "cell_type": "markdown",
   "metadata": {},
   "source": [
    "## DATAFRAME FINAL"
   ]
  },
  {
   "cell_type": "code",
   "execution_count": 61,
   "metadata": {
    "notebookRunGroups": {
     "groupValue": "1"
    }
   },
   "outputs": [],
   "source": [
    "from PyPDF2.errors import PdfReadError\n",
    "from Identificador import Identificador\n",
    "\n",
    "\n",
    "DISTRIBUIDORAS = {}\n",
    "\n",
    "for info in PATHS:\n",
    "    with contextlib.suppress(IndexError,TypeError, PdfReadError):\n",
    "        path = info.get(*info.keys())\n",
    "        DISTRIBUIDORA = Identificador(infos=info).main()(path)\n",
    "        name = DISTRIBUIDORA.distribuidora\n",
    "        print(name)\n",
    "        if name not in DISTRIBUIDORAS.keys():\n",
    "            DISTRIBUIDORAS[name] = []\n",
    "        if name != None:\n",
    "            if name in [\"CPFL\", \"EDP\", \"COPEL\", \"CEMIG\", \"ENEL\"]:\n",
    "                DISTRIBUIDORA.main()\n",
    "            DISTRIBUIDORAS[name].append(DISTRIBUIDORA)\n"
   ]
  },
  {
   "cell_type": "markdown",
   "metadata": {},
   "source": [
    "# GRAVAR DADOS NO BANCO - DESENVOLVIMENTO"
   ]
  },
  {
   "cell_type": "code",
   "execution_count": null,
   "metadata": {},
   "outputs": [],
   "source": [
    "CONSUMOS = []\n",
    "DEMANDAS = []\n",
    "for key in DISTRIBUIDORAS:\n",
    "    if key in [\"CPFL\", \"EDP\", \"COPEL\", \"CEMIG\", \"ENEL\"]:\n",
    "        for dis in DISTRIBUIDORAS[key]:\n",
    "            consumo = dis.consumo.copy()\n",
    "            consumo['nome'] = dis.nome.replace(\" \", \"_\")\n",
    "            consumo['uc'] = dis._caminho.split(\"\\\\\")[-1][:-4]\n",
    "            consumo['distribuidora'] = dis.distribuidora\n",
    "            consumo['medida_consumo'] = dis.medida_consumo\n",
    "            consumo['medida_demanda'] = dis.medida_demanda\n",
    "            consumo['ths'] = dis.ths\n",
    "            DEMANDAS.append(dis.demanda.copy())\n",
    "            CONSUMOS.append(consumo)\n",
    "consumos = pd.concat(CONSUMOS, ignore_index=True).set_index('datas')\n",
    "demandas = pd.concat(DEMANDAS, ignore_index=True).set_index('datas')"
   ]
  },
  {
   "cell_type": "code",
   "execution_count": 16,
   "metadata": {},
   "outputs": [],
   "source": [
    "infos = pd.concat([demandas, consumos], axis=1).drop_duplicates().fillna(-1).reset_index()\n",
    "infos.consumo_ponta = infos.consumo_ponta.astype(float)\n",
    "infos.demanda_ponta = infos.demanda_ponta.astype(float)\n",
    "infos.demanda_fora_de_ponta = infos.demanda_fora_de_ponta.astype(float)\n",
    "infos = remove_outliers(infos, \"consumo_ponta\", 0.9)"
   ]
  },
  {
   "cell_type": "code",
   "execution_count": 27,
   "metadata": {},
   "outputs": [],
   "source": [
    "distribuidoras = infos.distribuidora.unique()\n",
    "df = DataFrame(list(set(infos.groupby([\"distribuidora\", \"nome\", \"uc\"]).all().index)), columns=[\"distribuidora\", \"nome\", \"uc\"])"
   ]
  },
  {
   "cell_type": "code",
   "execution_count": 28,
   "metadata": {},
   "outputs": [],
   "source": [
    "db_path = r'C:\\Users\\mateus.souza\\Desktop\\Projetos_n\\leitor_pdf\\banco_de_dados\\distribuidoras.db'\n",
    "clientes = adiciona_novo_id_clientes(df.copy())\n",
    "ucs_db = get_clientes_existentes(db_path)\n",
    "novos_clientes = mantem_novos_clientes(df, ucs_db, col=\"nome\")\n",
    "# salva_novos_clientes(ucs_nova=novos_clientes, db_path=db_path)"
   ]
  }
 ],
 "metadata": {
  "kernelspec": {
   "display_name": "Python 3",
   "language": "python",
   "name": "python3"
  },
  "language_info": {
   "codemirror_mode": {
    "name": "ipython",
    "version": 3
   },
   "file_extension": ".py",
   "mimetype": "text/x-python",
   "name": "python",
   "nbconvert_exporter": "python",
   "pygments_lexer": "ipython3",
   "version": "3.10.6"
  },
  "orig_nbformat": 4
 },
 "nbformat": 4,
 "nbformat_minor": 2
}
