{
 "cells": [
  {
   "cell_type": "markdown",
   "metadata": {},
   "source": [
    "## <div style=\"color: #E98E29\">**1. Ler PDF completo** </div>\n",
    "\n",
    " - <s style=\"color: #92BB2D\">CPFL</s>\n",
    " - <s style=\"color: #92BB2D\">COPEL</s>\n",
    " - <s style=\"color: #92BB2D\">CEMIG</s>\n",
    " - <s style=\"color: #92BB2D\">EDP</s>\n",
    " - ELEKTRO\n",
    " - ENEL\n",
    "\n",
    "---\n",
    "\n",
    "## <div style=\"color: #E98E29\">**2. Criar a base**</div>\n",
    "- <s style=\"color: #92BB2D\">Coletar Meses e ano(s)</s>\n",
    "- <s style=\"color: #92BB2D\">Coletar Consumos</s>\n",
    "-  <s style=\"color: #92BB2D\">Coletar Demandas</s>\n",
    "- <s style=\"color: #92BB2D\">Criar DataFrame</s>\n",
    "- Adicionar a base de dados\n",
    "<br>\n",
    "<br>\n",
    "---\n",
    "\n",
    "## <s style=\"color: #92BB2D\">**3. Não adicionar datas repetidas**</s>\n",
    "\n",
    "<br>"
   ]
  },
  {
   "cell_type": "markdown",
   "metadata": {},
   "source": [
    "## LER OS PDFS"
   ]
  },
  {
   "cell_type": "code",
   "execution_count": 1,
   "metadata": {
    "notebookRunGroups": {
     "groupValue": "1"
    }
   },
   "outputs": [],
   "source": [
    "import sys\n",
    "\n",
    "classes = r\"C:\\Users\\mateus.souza\\Desktop\\Projetos_n\\leitor_pdf\\coleta\\scripts\\classes\"\n",
    "funcs = r\"C:\\Users\\mateus.souza\\Desktop\\Projetos_n\\leitor_pdf\\coleta\\scripts\\funcoes\"\n",
    "sys.path.append(classes)\n",
    "sys.path.append(funcs)"
   ]
  },
  {
   "cell_type": "code",
   "execution_count": 2,
   "metadata": {
    "notebookRunGroups": {
     "groupValue": "1"
    }
   },
   "outputs": [],
   "source": [
    "import os\n",
    "import contextlib\n",
    "import regex as re\n",
    "import pandas as pd\n",
    "from funcoes.f_database import *\n",
    "from typing import Any, List, Tuple\n",
    "from Fatura import Fatura\n",
    "\n",
    "join_path = lambda y, x: os.path.join(y, x)\n",
    "filename = lambda path, filetype: path.split(\"\\\\\")[-1].split(filetype)[0]\n",
    "\n",
    "PATH = r\"Q:\\APOIO ATENDIMENTO\\Faturas EcoExp\\Setembro\"\n",
    "FOLDERS = os.listdir(PATH)\n",
    "PATHS = [{filename(x, \".pdf\"): join_path(PATH, x)} for x in FOLDERS]"
   ]
  },
  {
   "cell_type": "markdown",
   "metadata": {},
   "source": [
    "# SCRIPTS"
   ]
  },
  {
   "cell_type": "markdown",
   "metadata": {},
   "source": [
    "## ADICIONAR IDS"
   ]
  },
  {
   "cell_type": "code",
   "execution_count": null,
   "metadata": {},
   "outputs": [],
   "source": [
    "# ADICIONA NOVOS CLIENTES\n",
    "df = []\n",
    "ucs_df = df[[\"nome\"]].drop_duplicates().reset_index(drop=True)\n",
    "db_path = r\"C:\\Users\\mateus.souza\\Desktop\\Projetos_n\\leitor_pdf\\banco_de_dados\\distribuidoras.db\"\n",
    "ucs_db = get_clientes_existentes(db_path)\n",
    "ucs_nova = adiciona_novo_id_clientes(mantem_novos_clientes(ucs_df, ucs_db))\n",
    "if not (ucs_nova.empty):\n",
    "    print(f\"Clientes a adicionar: {', '.join(ucs_nova.nome.values.tolist())}\")\n",
    "    if salva_novos_clientes(ucs_nova, db_path):\n",
    "        print(\"Insercao de Novos Clientes ok\")\n",
    "        ucs_db = get_clientes_existentes(db_path)\n",
    "    else:\n",
    "        print(\"Erro ao salvar valores no banco\")\n",
    "else:\n",
    "    print(\"Nenhuma UC nova\")\n",
    "\n",
    "consumos_pdf = criar_id_consumos(df_id=ucs_db, df_consumo=df.drop_duplicates(subset=[\"nome\", \"datas\"]))\n",
    "consumos_db = get_consumos_existentes(db_path)\n",
    "novos_consumos = mantem_novos_consumos(\n",
    "    novos_consumos=consumos_pdf, consumos_existentes=consumos_db\n",
    ")\n",
    "if not(novos_consumos.empty):\n",
    "    status = salva_novos_consumos(novos_consumos=novos_consumos, db_path=db_path)"
   ]
  },
  {
   "cell_type": "markdown",
   "metadata": {},
   "source": [
    "## DATAFRAME FINAL"
   ]
  },
  {
   "cell_type": "code",
   "execution_count": 4,
   "metadata": {
    "notebookRunGroups": {
     "groupValue": "1"
    }
   },
   "outputs": [],
   "source": [
    "from Identificador import Identificador\n",
    "from PyPDF2.errors import PdfReadError\n",
    "DISTRIBUIDORAS = {}\n",
    "for info in PATHS:\n",
    "    with contextlib.suppress(IndexError,TypeError, PdfReadError):\n",
    "        path = info.get(*info.keys())\n",
    "        DISTRIBUIDORA = Identificador(infos=info).main()(path)\n",
    "        name = DISTRIBUIDORA.distribuidora\n",
    "        if name not in DISTRIBUIDORAS.keys():\n",
    "            DISTRIBUIDORAS[name] = []\n",
    "        if name != None:\n",
    "            if name in [\"CPFL\", \"EDP\", \"COPEL\", \"CEMIG\"]:\n",
    "                DISTRIBUIDORA.main()\n",
    "            DISTRIBUIDORAS[name].append(DISTRIBUIDORA)\n"
   ]
  },
  {
   "cell_type": "markdown",
   "metadata": {},
   "source": [
    "# NOVAS CLASSES - DESENVOLVIMENTO"
   ]
  },
  {
   "cell_type": "code",
   "execution_count": null,
   "metadata": {},
   "outputs": [],
   "source": [
    "from EDP import EDP\n",
    "from CPFL import CPFL\n",
    "from COPEL import COPEL\n",
    "from CEMIG import CEMIG\n",
    "CONSUMOS = []\n",
    "\n",
    "for cemig in DISTRIBUIDORAS['CEMIG']:\n",
    "    caminho = cemig._caminho\n",
    "    cmg = CEMIG(caminho)\n",
    "    cmg.main()\n",
    "    CONSUMOS.append(cmg.consumo)\n",
    "\n",
    "for cpfl in DISTRIBUIDORAS['CPFL']:\n",
    "    caminho = cpfl._caminho\n",
    "    cpfl = CPFL(caminho)\n",
    "    cpfl.main()\n",
    "    CONSUMOS.append(cpfl.consumo)\n",
    "\n",
    "for edp in DISTRIBUIDORAS['EDP']:\n",
    "    caminho = edp._caminho\n",
    "    edp = EDP(caminho)\n",
    "    edp.main()\n",
    "    CONSUMOS.append(edp.consumo)\n",
    "\n",
    "for copel in DISTRIBUIDORAS['COPEL']:\n",
    "    caminho = copel._caminho\n",
    "    copel = COPEL(caminho)\n",
    "    copel.main()\n",
    "    CONSUMOS.append(copel.consumo)"
   ]
  },
  {
   "cell_type": "code",
   "execution_count": 12,
   "metadata": {},
   "outputs": [],
   "source": [
    "CONSUMOS = []\n",
    "for key in DISTRIBUIDORAS:\n",
    "    if key in [\"CPFL\", \"EDP\", \"COPEL\", \"CEMIG\"]:\n",
    "        CONSUMOS.extend(dis.demanda for dis in DISTRIBUIDORAS[key])"
   ]
  },
  {
   "cell_type": "code",
   "execution_count": 16,
   "metadata": {},
   "outputs": [
    {
     "data": {
      "text/html": [
       "<div>\n",
       "<style scoped>\n",
       "    .dataframe tbody tr th:only-of-type {\n",
       "        vertical-align: middle;\n",
       "    }\n",
       "\n",
       "    .dataframe tbody tr th {\n",
       "        vertical-align: top;\n",
       "    }\n",
       "\n",
       "    .dataframe thead th {\n",
       "        text-align: right;\n",
       "    }\n",
       "</style>\n",
       "<table border=\"1\" class=\"dataframe\">\n",
       "  <thead>\n",
       "    <tr style=\"text-align: right;\">\n",
       "      <th></th>\n",
       "      <th>datas</th>\n",
       "      <th>demanda_fora_de_ponta</th>\n",
       "      <th>demanda_ponta</th>\n",
       "      <th>data</th>\n",
       "    </tr>\n",
       "  </thead>\n",
       "  <tbody>\n",
       "    <tr>\n",
       "      <th>0</th>\n",
       "      <td>2023-09-01</td>\n",
       "      <td>369.6</td>\n",
       "      <td>NaN</td>\n",
       "      <td>NaT</td>\n",
       "    </tr>\n",
       "    <tr>\n",
       "      <th>1</th>\n",
       "      <td>2023-08-01</td>\n",
       "      <td>344.4</td>\n",
       "      <td>NaN</td>\n",
       "      <td>NaT</td>\n",
       "    </tr>\n",
       "    <tr>\n",
       "      <th>2</th>\n",
       "      <td>2023-07-01</td>\n",
       "      <td>364.0</td>\n",
       "      <td>NaN</td>\n",
       "      <td>NaT</td>\n",
       "    </tr>\n",
       "    <tr>\n",
       "      <th>3</th>\n",
       "      <td>2023-06-01</td>\n",
       "      <td>376.3</td>\n",
       "      <td>NaN</td>\n",
       "      <td>NaT</td>\n",
       "    </tr>\n",
       "    <tr>\n",
       "      <th>4</th>\n",
       "      <td>2023-05-01</td>\n",
       "      <td>375.8</td>\n",
       "      <td>NaN</td>\n",
       "      <td>NaT</td>\n",
       "    </tr>\n",
       "    <tr>\n",
       "      <th>...</th>\n",
       "      <td>...</td>\n",
       "      <td>...</td>\n",
       "      <td>...</td>\n",
       "      <td>...</td>\n",
       "    </tr>\n",
       "    <tr>\n",
       "      <th>2074</th>\n",
       "      <td>2023-01-01</td>\n",
       "      <td>241</td>\n",
       "      <td>239</td>\n",
       "      <td>NaT</td>\n",
       "    </tr>\n",
       "    <tr>\n",
       "      <th>2075</th>\n",
       "      <td>2022-12-01</td>\n",
       "      <td>318</td>\n",
       "      <td>286</td>\n",
       "      <td>NaT</td>\n",
       "    </tr>\n",
       "    <tr>\n",
       "      <th>2076</th>\n",
       "      <td>2022-11-01</td>\n",
       "      <td>241</td>\n",
       "      <td>286</td>\n",
       "      <td>NaT</td>\n",
       "    </tr>\n",
       "    <tr>\n",
       "      <th>2077</th>\n",
       "      <td>2022-10-01</td>\n",
       "      <td>245</td>\n",
       "      <td>221</td>\n",
       "      <td>NaT</td>\n",
       "    </tr>\n",
       "    <tr>\n",
       "      <th>2078</th>\n",
       "      <td>2022-09-01</td>\n",
       "      <td>262</td>\n",
       "      <td>237</td>\n",
       "      <td>NaT</td>\n",
       "    </tr>\n",
       "  </tbody>\n",
       "</table>\n",
       "<p>2079 rows × 4 columns</p>\n",
       "</div>"
      ],
      "text/plain": [
       "          datas demanda_fora_de_ponta demanda_ponta data\n",
       "0    2023-09-01                 369.6           NaN  NaT\n",
       "1    2023-08-01                 344.4           NaN  NaT\n",
       "2    2023-07-01                 364.0           NaN  NaT\n",
       "3    2023-06-01                 376.3           NaN  NaT\n",
       "4    2023-05-01                 375.8           NaN  NaT\n",
       "...         ...                   ...           ...  ...\n",
       "2074 2023-01-01                   241           239  NaT\n",
       "2075 2022-12-01                   318           286  NaT\n",
       "2076 2022-11-01                   241           286  NaT\n",
       "2077 2022-10-01                   245           221  NaT\n",
       "2078 2022-09-01                   262           237  NaT\n",
       "\n",
       "[2079 rows x 4 columns]"
      ]
     },
     "execution_count": 16,
     "metadata": {},
     "output_type": "execute_result"
    }
   ],
   "source": [
    "pd.concat(CONSUMOS, ignore_index=True)"
   ]
  },
  {
   "cell_type": "code",
   "execution_count": null,
   "metadata": {},
   "outputs": [],
   "source": [
    "idx = cpfl._texto_posicao(\"consumo fora de ponta\")\n",
    "\n",
    "string = cpfl.ultima_pagina[idx:][:re.search(\"\\n\\w.*dias\", cpfl.ultima_pagina[idx:]).span()[0]]\n",
    "datas_lista = cpfl.datas_texto(re.sub(\"ll.*\", \"\", string).split(\"\\n\")[1:])\n",
    "datas_series = pd.Series(datas_lista, name=\"data\")\n",
    "cpfl._data = datas_series.apply(cpfl.transforma_data)"
   ]
  },
  {
   "cell_type": "code",
   "execution_count": null,
   "metadata": {},
   "outputs": [],
   "source": [
    "cpfl.data"
   ]
  },
  {
   "cell_type": "code",
   "execution_count": null,
   "metadata": {},
   "outputs": [],
   "source": [
    "erro = cpfl._caminho "
   ]
  }
 ],
 "metadata": {
  "kernelspec": {
   "display_name": "Python 3",
   "language": "python",
   "name": "python3"
  },
  "language_info": {
   "codemirror_mode": {
    "name": "ipython",
    "version": 3
   },
   "file_extension": ".py",
   "mimetype": "text/x-python",
   "name": "python",
   "nbconvert_exporter": "python",
   "pygments_lexer": "ipython3",
   "version": "3.10.6"
  },
  "orig_nbformat": 4
 },
 "nbformat": 4,
 "nbformat_minor": 2
}
